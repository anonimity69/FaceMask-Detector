{
 "cells": [
  {
   "cell_type": "code",
   "execution_count": 1,
   "id": "fbfed23f",
   "metadata": {},
   "outputs": [],
   "source": [
    "import numpy as np\n",
    "import pandas as pd\n",
    "import tensorflow\n",
    "from tensorflow import keras\n",
    "from tensorflow.keras.preprocessing.image import ImageDataGenerator, load_img\n",
    "from tensorflow.keras.utils import to_categorical\n",
    "from sklearn.model_selection import train_test_split\n",
    "from tensorflow.keras.models import Sequential\n",
    "from tensorflow.keras.layers import Dense,Flatten,Dropout\n",
    "from tensorflow.keras.applications.vgg16 import preprocess_input\n",
    "import os\n",
    "import matplotlib.pyplot as plt"
   ]
  },
  {
   "cell_type": "code",
   "execution_count": 2,
   "id": "cd190c99",
   "metadata": {},
   "outputs": [],
   "source": [
    "train_directory = \"C:/Users/ASUS/Desktop/MASK_DETECTION/Face Mask Dataset/Train/\"\n",
    "val_directory = \"C:/Users/ASUS/Desktop/MASK_DETECTION/Face Mask Dataset/Validation/\"\n",
    "test_directory = \"C:/Users/ASUS/Desktop/MASK_DETECTION/Face Mask Dataset/Test/\""
   ]
  },
  {
   "cell_type": "code",
   "execution_count": 3,
   "id": "a43fd671",
   "metadata": {},
   "outputs": [
    {
     "data": {
      "text/html": [
       "<div>\n",
       "<style scoped>\n",
       "    .dataframe tbody tr th:only-of-type {\n",
       "        vertical-align: middle;\n",
       "    }\n",
       "\n",
       "    .dataframe tbody tr th {\n",
       "        vertical-align: top;\n",
       "    }\n",
       "\n",
       "    .dataframe thead th {\n",
       "        text-align: right;\n",
       "    }\n",
       "</style>\n",
       "<table border=\"1\" class=\"dataframe\">\n",
       "  <thead>\n",
       "    <tr style=\"text-align: right;\">\n",
       "      <th></th>\n",
       "      <th>path</th>\n",
       "      <th>label</th>\n",
       "    </tr>\n",
       "  </thead>\n",
       "  <tbody>\n",
       "    <tr>\n",
       "      <th>0</th>\n",
       "      <td>C:/Users/ASUS/Desktop/MASK_DETECTION/Face Mask...</td>\n",
       "      <td>With Mask</td>\n",
       "    </tr>\n",
       "    <tr>\n",
       "      <th>1</th>\n",
       "      <td>C:/Users/ASUS/Desktop/MASK_DETECTION/Face Mask...</td>\n",
       "      <td>With Mask</td>\n",
       "    </tr>\n",
       "    <tr>\n",
       "      <th>2</th>\n",
       "      <td>C:/Users/ASUS/Desktop/MASK_DETECTION/Face Mask...</td>\n",
       "      <td>With Mask</td>\n",
       "    </tr>\n",
       "    <tr>\n",
       "      <th>3</th>\n",
       "      <td>C:/Users/ASUS/Desktop/MASK_DETECTION/Face Mask...</td>\n",
       "      <td>With Mask</td>\n",
       "    </tr>\n",
       "    <tr>\n",
       "      <th>4</th>\n",
       "      <td>C:/Users/ASUS/Desktop/MASK_DETECTION/Face Mask...</td>\n",
       "      <td>With Mask</td>\n",
       "    </tr>\n",
       "    <tr>\n",
       "      <th>...</th>\n",
       "      <td>...</td>\n",
       "      <td>...</td>\n",
       "    </tr>\n",
       "    <tr>\n",
       "      <th>9995</th>\n",
       "      <td>C:/Users/ASUS/Desktop/MASK_DETECTION/Face Mask...</td>\n",
       "      <td>Without Mask</td>\n",
       "    </tr>\n",
       "    <tr>\n",
       "      <th>9996</th>\n",
       "      <td>C:/Users/ASUS/Desktop/MASK_DETECTION/Face Mask...</td>\n",
       "      <td>Without Mask</td>\n",
       "    </tr>\n",
       "    <tr>\n",
       "      <th>9997</th>\n",
       "      <td>C:/Users/ASUS/Desktop/MASK_DETECTION/Face Mask...</td>\n",
       "      <td>Without Mask</td>\n",
       "    </tr>\n",
       "    <tr>\n",
       "      <th>9998</th>\n",
       "      <td>C:/Users/ASUS/Desktop/MASK_DETECTION/Face Mask...</td>\n",
       "      <td>Without Mask</td>\n",
       "    </tr>\n",
       "    <tr>\n",
       "      <th>9999</th>\n",
       "      <td>C:/Users/ASUS/Desktop/MASK_DETECTION/Face Mask...</td>\n",
       "      <td>Without Mask</td>\n",
       "    </tr>\n",
       "  </tbody>\n",
       "</table>\n",
       "<p>10000 rows × 2 columns</p>\n",
       "</div>"
      ],
      "text/plain": [
       "                                                   path         label\n",
       "0     C:/Users/ASUS/Desktop/MASK_DETECTION/Face Mask...     With Mask\n",
       "1     C:/Users/ASUS/Desktop/MASK_DETECTION/Face Mask...     With Mask\n",
       "2     C:/Users/ASUS/Desktop/MASK_DETECTION/Face Mask...     With Mask\n",
       "3     C:/Users/ASUS/Desktop/MASK_DETECTION/Face Mask...     With Mask\n",
       "4     C:/Users/ASUS/Desktop/MASK_DETECTION/Face Mask...     With Mask\n",
       "...                                                 ...           ...\n",
       "9995  C:/Users/ASUS/Desktop/MASK_DETECTION/Face Mask...  Without Mask\n",
       "9996  C:/Users/ASUS/Desktop/MASK_DETECTION/Face Mask...  Without Mask\n",
       "9997  C:/Users/ASUS/Desktop/MASK_DETECTION/Face Mask...  Without Mask\n",
       "9998  C:/Users/ASUS/Desktop/MASK_DETECTION/Face Mask...  Without Mask\n",
       "9999  C:/Users/ASUS/Desktop/MASK_DETECTION/Face Mask...  Without Mask\n",
       "\n",
       "[10000 rows x 2 columns]"
      ]
     },
     "execution_count": 3,
     "metadata": {},
     "output_type": "execute_result"
    }
   ],
   "source": [
    "label_train = []\n",
    "path_train = []\n",
    "for dirname, _,filenames in os.walk(train_directory):\n",
    "    for filename in filenames:\n",
    "        if os.path.splitext(filename)[1]=='.png' or os.path.splitext(filename)[1]=='.jpg':\n",
    "            label_train.append(os.path.split(dirname)[1])\n",
    "            path_train.append(os.path.join(dirname,filename))\n",
    "            \n",
    "df_train = pd.DataFrame(columns=['path','label'])\n",
    "df_train['path']=path_train\n",
    "df_train['label']=label_train\n",
    "df_train"
   ]
  },
  {
   "cell_type": "code",
   "execution_count": 4,
   "id": "bafabe58",
   "metadata": {},
   "outputs": [
    {
     "data": {
      "text/html": [
       "<div>\n",
       "<style scoped>\n",
       "    .dataframe tbody tr th:only-of-type {\n",
       "        vertical-align: middle;\n",
       "    }\n",
       "\n",
       "    .dataframe tbody tr th {\n",
       "        vertical-align: top;\n",
       "    }\n",
       "\n",
       "    .dataframe thead th {\n",
       "        text-align: right;\n",
       "    }\n",
       "</style>\n",
       "<table border=\"1\" class=\"dataframe\">\n",
       "  <thead>\n",
       "    <tr style=\"text-align: right;\">\n",
       "      <th></th>\n",
       "      <th>path</th>\n",
       "      <th>label</th>\n",
       "    </tr>\n",
       "  </thead>\n",
       "  <tbody>\n",
       "    <tr>\n",
       "      <th>0</th>\n",
       "      <td>C:/Users/ASUS/Desktop/MASK_DETECTION/Face Mask...</td>\n",
       "      <td>With Mask</td>\n",
       "    </tr>\n",
       "    <tr>\n",
       "      <th>1</th>\n",
       "      <td>C:/Users/ASUS/Desktop/MASK_DETECTION/Face Mask...</td>\n",
       "      <td>With Mask</td>\n",
       "    </tr>\n",
       "    <tr>\n",
       "      <th>2</th>\n",
       "      <td>C:/Users/ASUS/Desktop/MASK_DETECTION/Face Mask...</td>\n",
       "      <td>With Mask</td>\n",
       "    </tr>\n",
       "    <tr>\n",
       "      <th>3</th>\n",
       "      <td>C:/Users/ASUS/Desktop/MASK_DETECTION/Face Mask...</td>\n",
       "      <td>With Mask</td>\n",
       "    </tr>\n",
       "    <tr>\n",
       "      <th>4</th>\n",
       "      <td>C:/Users/ASUS/Desktop/MASK_DETECTION/Face Mask...</td>\n",
       "      <td>With Mask</td>\n",
       "    </tr>\n",
       "    <tr>\n",
       "      <th>...</th>\n",
       "      <td>...</td>\n",
       "      <td>...</td>\n",
       "    </tr>\n",
       "    <tr>\n",
       "      <th>795</th>\n",
       "      <td>C:/Users/ASUS/Desktop/MASK_DETECTION/Face Mask...</td>\n",
       "      <td>Without Mask</td>\n",
       "    </tr>\n",
       "    <tr>\n",
       "      <th>796</th>\n",
       "      <td>C:/Users/ASUS/Desktop/MASK_DETECTION/Face Mask...</td>\n",
       "      <td>Without Mask</td>\n",
       "    </tr>\n",
       "    <tr>\n",
       "      <th>797</th>\n",
       "      <td>C:/Users/ASUS/Desktop/MASK_DETECTION/Face Mask...</td>\n",
       "      <td>Without Mask</td>\n",
       "    </tr>\n",
       "    <tr>\n",
       "      <th>798</th>\n",
       "      <td>C:/Users/ASUS/Desktop/MASK_DETECTION/Face Mask...</td>\n",
       "      <td>Without Mask</td>\n",
       "    </tr>\n",
       "    <tr>\n",
       "      <th>799</th>\n",
       "      <td>C:/Users/ASUS/Desktop/MASK_DETECTION/Face Mask...</td>\n",
       "      <td>Without Mask</td>\n",
       "    </tr>\n",
       "  </tbody>\n",
       "</table>\n",
       "<p>800 rows × 2 columns</p>\n",
       "</div>"
      ],
      "text/plain": [
       "                                                  path         label\n",
       "0    C:/Users/ASUS/Desktop/MASK_DETECTION/Face Mask...     With Mask\n",
       "1    C:/Users/ASUS/Desktop/MASK_DETECTION/Face Mask...     With Mask\n",
       "2    C:/Users/ASUS/Desktop/MASK_DETECTION/Face Mask...     With Mask\n",
       "3    C:/Users/ASUS/Desktop/MASK_DETECTION/Face Mask...     With Mask\n",
       "4    C:/Users/ASUS/Desktop/MASK_DETECTION/Face Mask...     With Mask\n",
       "..                                                 ...           ...\n",
       "795  C:/Users/ASUS/Desktop/MASK_DETECTION/Face Mask...  Without Mask\n",
       "796  C:/Users/ASUS/Desktop/MASK_DETECTION/Face Mask...  Without Mask\n",
       "797  C:/Users/ASUS/Desktop/MASK_DETECTION/Face Mask...  Without Mask\n",
       "798  C:/Users/ASUS/Desktop/MASK_DETECTION/Face Mask...  Without Mask\n",
       "799  C:/Users/ASUS/Desktop/MASK_DETECTION/Face Mask...  Without Mask\n",
       "\n",
       "[800 rows x 2 columns]"
      ]
     },
     "execution_count": 4,
     "metadata": {},
     "output_type": "execute_result"
    }
   ],
   "source": [
    "valid_label = []\n",
    "valid_path = []\n",
    "for dirname, _,filenames in os.walk(val_directory):\n",
    "    for filename in filenames:\n",
    "        if os.path.splitext(filename)[1]=='.png' or os.path.splitext(filename)[1]=='.jpg':\n",
    "            valid_label.append(os.path.split(dirname)[1])\n",
    "            valid_path.append(os.path.join(dirname,filename))\n",
    "            \n",
    "df_valid = pd.DataFrame(columns=['path','label'])\n",
    "df_valid['path']=valid_path\n",
    "df_valid['label']=valid_label\n",
    "df_valid"
   ]
  },
  {
   "cell_type": "code",
   "execution_count": 5,
   "id": "7a27420e",
   "metadata": {},
   "outputs": [],
   "source": [
    "total_train=df_train.shape[0]\n",
    "total_valid=df_valid.shape[0]"
   ]
  },
  {
   "cell_type": "code",
   "execution_count": 6,
   "id": "c1210920",
   "metadata": {},
   "outputs": [
    {
     "data": {
      "text/plain": [
       "With Mask       5000\n",
       "Without Mask    5000\n",
       "Name: label, dtype: int64"
      ]
     },
     "execution_count": 6,
     "metadata": {},
     "output_type": "execute_result"
    }
   ],
   "source": [
    "df_train.label.value_counts()"
   ]
  },
  {
   "cell_type": "code",
   "execution_count": 7,
   "id": "9c6a92fe",
   "metadata": {},
   "outputs": [
    {
     "name": "stdout",
     "output_type": "stream",
     "text": [
      "Found 10000 validated image filenames belonging to 2 classes.\n",
      "Found 800 validated image filenames belonging to 2 classes.\n"
     ]
    }
   ],
   "source": [
    "train_datagen = ImageDataGenerator(preprocessing_function=preprocess_input,rotation_range=15,\n",
    "                                  shear_range=0.1,\n",
    "                                  zoom_range=0.2,\n",
    "                                  horizontal_flip=True)\n",
    "\n",
    "train_generator = train_datagen.flow_from_dataframe(df_train,\n",
    "                                                  x_col='path',y_col='label',\n",
    "                                                  target_size=(224,224),\n",
    "                                                  batch_size=32,\n",
    "                                                  class_mode=\"categorical\")\n",
    "\n",
    "valid_datagen = ImageDataGenerator(preprocessing_function= preprocess_input)\n",
    "\n",
    "valid_generator = valid_datagen.flow_from_dataframe(df_valid,\n",
    "                                                   x_col='path',y_col='label',\n",
    "                                                   target_size=(224,224),\n",
    "                                                   batch_size=32,\n",
    "                                                   class_mode=\"categorical\")"
   ]
  },
  {
   "cell_type": "code",
   "execution_count": 8,
   "id": "88544690",
   "metadata": {},
   "outputs": [
    {
     "data": {
      "text/plain": [
       "{'With Mask': 0, 'Without Mask': 1}"
      ]
     },
     "execution_count": 8,
     "metadata": {},
     "output_type": "execute_result"
    }
   ],
   "source": [
    "train_generator.class_indices"
   ]
  },
  {
   "cell_type": "code",
   "execution_count": 9,
   "id": "94ddc085",
   "metadata": {},
   "outputs": [],
   "source": [
    "vgg_model=tensorflow.keras.applications.vgg16.VGG16()"
   ]
  },
  {
   "cell_type": "code",
   "execution_count": 10,
   "id": "b1e8e992",
   "metadata": {},
   "outputs": [],
   "source": [
    "model=Sequential()\n",
    "for layer in vgg_model.layers:\n",
    "    model.add(layer)"
   ]
  },
  {
   "cell_type": "code",
   "execution_count": 11,
   "id": "99a26477",
   "metadata": {},
   "outputs": [
    {
     "name": "stdout",
     "output_type": "stream",
     "text": [
      "Model: \"sequential\"\n",
      "_________________________________________________________________\n",
      "Layer (type)                 Output Shape              Param #   \n",
      "=================================================================\n",
      "block1_conv1 (Conv2D)        (None, 224, 224, 64)      1792      \n",
      "_________________________________________________________________\n",
      "block1_conv2 (Conv2D)        (None, 224, 224, 64)      36928     \n",
      "_________________________________________________________________\n",
      "block1_pool (MaxPooling2D)   (None, 112, 112, 64)      0         \n",
      "_________________________________________________________________\n",
      "block2_conv1 (Conv2D)        (None, 112, 112, 128)     73856     \n",
      "_________________________________________________________________\n",
      "block2_conv2 (Conv2D)        (None, 112, 112, 128)     147584    \n",
      "_________________________________________________________________\n",
      "block2_pool (MaxPooling2D)   (None, 56, 56, 128)       0         \n",
      "_________________________________________________________________\n",
      "block3_conv1 (Conv2D)        (None, 56, 56, 256)       295168    \n",
      "_________________________________________________________________\n",
      "block3_conv2 (Conv2D)        (None, 56, 56, 256)       590080    \n",
      "_________________________________________________________________\n",
      "block3_conv3 (Conv2D)        (None, 56, 56, 256)       590080    \n",
      "_________________________________________________________________\n",
      "block3_pool (MaxPooling2D)   (None, 28, 28, 256)       0         \n",
      "_________________________________________________________________\n",
      "block4_conv1 (Conv2D)        (None, 28, 28, 512)       1180160   \n",
      "_________________________________________________________________\n",
      "block4_conv2 (Conv2D)        (None, 28, 28, 512)       2359808   \n",
      "_________________________________________________________________\n",
      "block4_conv3 (Conv2D)        (None, 28, 28, 512)       2359808   \n",
      "_________________________________________________________________\n",
      "block4_pool (MaxPooling2D)   (None, 14, 14, 512)       0         \n",
      "_________________________________________________________________\n",
      "block5_conv1 (Conv2D)        (None, 14, 14, 512)       2359808   \n",
      "_________________________________________________________________\n",
      "block5_conv2 (Conv2D)        (None, 14, 14, 512)       2359808   \n",
      "_________________________________________________________________\n",
      "block5_conv3 (Conv2D)        (None, 14, 14, 512)       2359808   \n",
      "_________________________________________________________________\n",
      "block5_pool (MaxPooling2D)   (None, 7, 7, 512)         0         \n",
      "_________________________________________________________________\n",
      "flatten (Flatten)            (None, 25088)             0         \n",
      "_________________________________________________________________\n",
      "fc1 (Dense)                  (None, 4096)              102764544 \n",
      "_________________________________________________________________\n",
      "fc2 (Dense)                  (None, 4096)              16781312  \n",
      "_________________________________________________________________\n",
      "predictions (Dense)          (None, 1000)              4097000   \n",
      "=================================================================\n",
      "Total params: 138,357,544\n",
      "Trainable params: 138,357,544\n",
      "Non-trainable params: 0\n",
      "_________________________________________________________________\n"
     ]
    }
   ],
   "source": [
    "model.summary()"
   ]
  },
  {
   "cell_type": "code",
   "execution_count": 12,
   "id": "af58e9d4",
   "metadata": {},
   "outputs": [],
   "source": [
    "model.pop()"
   ]
  },
  {
   "cell_type": "code",
   "execution_count": 13,
   "id": "61c776c4",
   "metadata": {},
   "outputs": [
    {
     "name": "stdout",
     "output_type": "stream",
     "text": [
      "Model: \"sequential\"\n",
      "_________________________________________________________________\n",
      "Layer (type)                 Output Shape              Param #   \n",
      "=================================================================\n",
      "block1_conv1 (Conv2D)        (None, 224, 224, 64)      1792      \n",
      "_________________________________________________________________\n",
      "block1_conv2 (Conv2D)        (None, 224, 224, 64)      36928     \n",
      "_________________________________________________________________\n",
      "block1_pool (MaxPooling2D)   (None, 112, 112, 64)      0         \n",
      "_________________________________________________________________\n",
      "block2_conv1 (Conv2D)        (None, 112, 112, 128)     73856     \n",
      "_________________________________________________________________\n",
      "block2_conv2 (Conv2D)        (None, 112, 112, 128)     147584    \n",
      "_________________________________________________________________\n",
      "block2_pool (MaxPooling2D)   (None, 56, 56, 128)       0         \n",
      "_________________________________________________________________\n",
      "block3_conv1 (Conv2D)        (None, 56, 56, 256)       295168    \n",
      "_________________________________________________________________\n",
      "block3_conv2 (Conv2D)        (None, 56, 56, 256)       590080    \n",
      "_________________________________________________________________\n",
      "block3_conv3 (Conv2D)        (None, 56, 56, 256)       590080    \n",
      "_________________________________________________________________\n",
      "block3_pool (MaxPooling2D)   (None, 28, 28, 256)       0         \n",
      "_________________________________________________________________\n",
      "block4_conv1 (Conv2D)        (None, 28, 28, 512)       1180160   \n",
      "_________________________________________________________________\n",
      "block4_conv2 (Conv2D)        (None, 28, 28, 512)       2359808   \n",
      "_________________________________________________________________\n",
      "block4_conv3 (Conv2D)        (None, 28, 28, 512)       2359808   \n",
      "_________________________________________________________________\n",
      "block4_pool (MaxPooling2D)   (None, 14, 14, 512)       0         \n",
      "_________________________________________________________________\n",
      "block5_conv1 (Conv2D)        (None, 14, 14, 512)       2359808   \n",
      "_________________________________________________________________\n",
      "block5_conv2 (Conv2D)        (None, 14, 14, 512)       2359808   \n",
      "_________________________________________________________________\n",
      "block5_conv3 (Conv2D)        (None, 14, 14, 512)       2359808   \n",
      "_________________________________________________________________\n",
      "block5_pool (MaxPooling2D)   (None, 7, 7, 512)         0         \n",
      "_________________________________________________________________\n",
      "flatten (Flatten)            (None, 25088)             0         \n",
      "_________________________________________________________________\n",
      "fc1 (Dense)                  (None, 4096)              102764544 \n",
      "_________________________________________________________________\n",
      "fc2 (Dense)                  (None, 4096)              16781312  \n",
      "=================================================================\n",
      "Total params: 134,260,544\n",
      "Trainable params: 134,260,544\n",
      "Non-trainable params: 0\n",
      "_________________________________________________________________\n"
     ]
    }
   ],
   "source": [
    "model.summary()"
   ]
  },
  {
   "cell_type": "code",
   "execution_count": 14,
   "id": "1587b1a4",
   "metadata": {},
   "outputs": [],
   "source": [
    "for layer in model.layers:\n",
    "    layer.trainable=False"
   ]
  },
  {
   "cell_type": "code",
   "execution_count": 15,
   "id": "01ebd0a9",
   "metadata": {},
   "outputs": [
    {
     "name": "stdout",
     "output_type": "stream",
     "text": [
      "Model: \"sequential\"\n",
      "_________________________________________________________________\n",
      "Layer (type)                 Output Shape              Param #   \n",
      "=================================================================\n",
      "block1_conv1 (Conv2D)        (None, 224, 224, 64)      1792      \n",
      "_________________________________________________________________\n",
      "block1_conv2 (Conv2D)        (None, 224, 224, 64)      36928     \n",
      "_________________________________________________________________\n",
      "block1_pool (MaxPooling2D)   (None, 112, 112, 64)      0         \n",
      "_________________________________________________________________\n",
      "block2_conv1 (Conv2D)        (None, 112, 112, 128)     73856     \n",
      "_________________________________________________________________\n",
      "block2_conv2 (Conv2D)        (None, 112, 112, 128)     147584    \n",
      "_________________________________________________________________\n",
      "block2_pool (MaxPooling2D)   (None, 56, 56, 128)       0         \n",
      "_________________________________________________________________\n",
      "block3_conv1 (Conv2D)        (None, 56, 56, 256)       295168    \n",
      "_________________________________________________________________\n",
      "block3_conv2 (Conv2D)        (None, 56, 56, 256)       590080    \n",
      "_________________________________________________________________\n",
      "block3_conv3 (Conv2D)        (None, 56, 56, 256)       590080    \n",
      "_________________________________________________________________\n",
      "block3_pool (MaxPooling2D)   (None, 28, 28, 256)       0         \n",
      "_________________________________________________________________\n",
      "block4_conv1 (Conv2D)        (None, 28, 28, 512)       1180160   \n",
      "_________________________________________________________________\n",
      "block4_conv2 (Conv2D)        (None, 28, 28, 512)       2359808   \n",
      "_________________________________________________________________\n",
      "block4_conv3 (Conv2D)        (None, 28, 28, 512)       2359808   \n",
      "_________________________________________________________________\n",
      "block4_pool (MaxPooling2D)   (None, 14, 14, 512)       0         \n",
      "_________________________________________________________________\n",
      "block5_conv1 (Conv2D)        (None, 14, 14, 512)       2359808   \n",
      "_________________________________________________________________\n",
      "block5_conv2 (Conv2D)        (None, 14, 14, 512)       2359808   \n",
      "_________________________________________________________________\n",
      "block5_conv3 (Conv2D)        (None, 14, 14, 512)       2359808   \n",
      "_________________________________________________________________\n",
      "block5_pool (MaxPooling2D)   (None, 7, 7, 512)         0         \n",
      "_________________________________________________________________\n",
      "flatten (Flatten)            (None, 25088)             0         \n",
      "_________________________________________________________________\n",
      "fc1 (Dense)                  (None, 4096)              102764544 \n",
      "_________________________________________________________________\n",
      "fc2 (Dense)                  (None, 4096)              16781312  \n",
      "_________________________________________________________________\n",
      "dense (Dense)                (None, 2)                 8194      \n",
      "=================================================================\n",
      "Total params: 134,268,738\n",
      "Trainable params: 8,194\n",
      "Non-trainable params: 134,260,544\n",
      "_________________________________________________________________\n"
     ]
    }
   ],
   "source": [
    "model.add(Dense(2,activation='softmax'))\n",
    "model.summary()"
   ]
  },
  {
   "cell_type": "code",
   "execution_count": 16,
   "id": "048104b8",
   "metadata": {},
   "outputs": [],
   "source": [
    "model.compile(optimizer=keras.optimizers.Adam(0.0001),loss='categorical_crossentropy',metrics=['accuracy'])"
   ]
  },
  {
   "cell_type": "code",
   "execution_count": 17,
   "id": "fde7b231",
   "metadata": {},
   "outputs": [
    {
     "name": "stderr",
     "output_type": "stream",
     "text": [
      "C:\\users\\asus\\appdata\\local\\programs\\python\\python39\\lib\\site-packages\\tensorflow\\python\\keras\\engine\\training.py:1940: UserWarning: `Model.fit_generator` is deprecated and will be removed in a future version. Please use `Model.fit`, which supports generators.\n",
      "  warnings.warn('`Model.fit_generator` is deprecated and '\n"
     ]
    },
    {
     "name": "stdout",
     "output_type": "stream",
     "text": [
      "Epoch 1/20\n",
      "312/312 [==============================] - 142s 425ms/step - loss: 0.1124 - accuracy: 0.9581 - val_loss: 0.0431 - val_accuracy: 0.9862\n",
      "Epoch 2/20\n",
      "312/312 [==============================] - 106s 339ms/step - loss: 0.0281 - accuracy: 0.9929 - val_loss: 0.0328 - val_accuracy: 0.9887\n",
      "Epoch 3/20\n",
      "312/312 [==============================] - 107s 343ms/step - loss: 0.0222 - accuracy: 0.9938 - val_loss: 0.0292 - val_accuracy: 0.9887\n",
      "Epoch 4/20\n",
      "312/312 [==============================] - 108s 345ms/step - loss: 0.0178 - accuracy: 0.9949 - val_loss: 0.0244 - val_accuracy: 0.9900\n",
      "Epoch 5/20\n",
      "312/312 [==============================] - 109s 349ms/step - loss: 0.0157 - accuracy: 0.9956 - val_loss: 0.0219 - val_accuracy: 0.9912\n",
      "Epoch 6/20\n",
      "312/312 [==============================] - 108s 346ms/step - loss: 0.0133 - accuracy: 0.9963 - val_loss: 0.0204 - val_accuracy: 0.9925\n",
      "Epoch 7/20\n",
      "312/312 [==============================] - 108s 346ms/step - loss: 0.0136 - accuracy: 0.9966 - val_loss: 0.0238 - val_accuracy: 0.9925\n",
      "Epoch 8/20\n",
      "312/312 [==============================] - 106s 341ms/step - loss: 0.0118 - accuracy: 0.9963 - val_loss: 0.0224 - val_accuracy: 0.9912\n",
      "Epoch 9/20\n",
      "312/312 [==============================] - 106s 341ms/step - loss: 0.0107 - accuracy: 0.9969 - val_loss: 0.0199 - val_accuracy: 0.9925\n",
      "Epoch 10/20\n",
      "312/312 [==============================] - 108s 346ms/step - loss: 0.0087 - accuracy: 0.9970 - val_loss: 0.0208 - val_accuracy: 0.9912\n",
      "Epoch 11/20\n",
      "312/312 [==============================] - 106s 339ms/step - loss: 0.0103 - accuracy: 0.9966 - val_loss: 0.0174 - val_accuracy: 0.9925\n",
      "Epoch 12/20\n",
      "312/312 [==============================] - 106s 340ms/step - loss: 0.0094 - accuracy: 0.9965 - val_loss: 0.0179 - val_accuracy: 0.9925\n",
      "Epoch 13/20\n",
      "312/312 [==============================] - 106s 341ms/step - loss: 0.0106 - accuracy: 0.9967 - val_loss: 0.0179 - val_accuracy: 0.9937\n",
      "Epoch 14/20\n",
      "312/312 [==============================] - 107s 341ms/step - loss: 0.0086 - accuracy: 0.9974 - val_loss: 0.0206 - val_accuracy: 0.9912\n",
      "Epoch 15/20\n",
      "312/312 [==============================] - 105s 337ms/step - loss: 0.0068 - accuracy: 0.9982 - val_loss: 0.0180 - val_accuracy: 0.9937\n",
      "Epoch 16/20\n",
      "312/312 [==============================] - 111s 354ms/step - loss: 0.0077 - accuracy: 0.9980 - val_loss: 0.0208 - val_accuracy: 0.9900\n",
      "Epoch 17/20\n",
      "312/312 [==============================] - 108s 345ms/step - loss: 0.0074 - accuracy: 0.9975 - val_loss: 0.0220 - val_accuracy: 0.9912\n",
      "Epoch 18/20\n",
      "312/312 [==============================] - 113s 362ms/step - loss: 0.0056 - accuracy: 0.9978 - val_loss: 0.0203 - val_accuracy: 0.9900\n",
      "Epoch 19/20\n",
      "312/312 [==============================] - 112s 358ms/step - loss: 0.0067 - accuracy: 0.9978 - val_loss: 0.0164 - val_accuracy: 0.9925\n",
      "Epoch 20/20\n",
      "312/312 [==============================] - 109s 349ms/step - loss: 0.0056 - accuracy: 0.9983 - val_loss: 0.0202 - val_accuracy: 0.9912\n"
     ]
    }
   ],
   "source": [
    "history= model.fit_generator(train_generator,\n",
    "                   epochs=20,\n",
    "                   validation_data=valid_generator,\n",
    "                   validation_steps= total_valid//32,\n",
    "                   steps_per_epoch= total_train//32)"
   ]
  },
  {
   "cell_type": "code",
   "execution_count": null,
   "id": "442b744d",
   "metadata": {},
   "outputs": [],
   "source": []
  },
  {
   "cell_type": "code",
   "execution_count": null,
   "id": "d8e98798",
   "metadata": {},
   "outputs": [],
   "source": []
  },
  {
   "cell_type": "code",
   "execution_count": null,
   "id": "12f665fa",
   "metadata": {},
   "outputs": [],
   "source": []
  },
  {
   "cell_type": "code",
   "execution_count": null,
   "id": "33751208",
   "metadata": {},
   "outputs": [],
   "source": []
  },
  {
   "cell_type": "code",
   "execution_count": null,
   "id": "5c6989f3",
   "metadata": {},
   "outputs": [],
   "source": []
  },
  {
   "cell_type": "code",
   "execution_count": null,
   "id": "ddac096a",
   "metadata": {},
   "outputs": [],
   "source": []
  }
 ],
 "metadata": {
  "kernelspec": {
   "display_name": "Python 3 (ipykernel)",
   "language": "python",
   "name": "python3"
  },
  "language_info": {
   "codemirror_mode": {
    "name": "ipython",
    "version": 3
   },
   "file_extension": ".py",
   "mimetype": "text/x-python",
   "name": "python",
   "nbconvert_exporter": "python",
   "pygments_lexer": "ipython3",
   "version": "3.9.6"
  }
 },
 "nbformat": 4,
 "nbformat_minor": 5
}
